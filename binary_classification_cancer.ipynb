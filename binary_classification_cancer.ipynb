{
  "nbformat": 4,
  "nbformat_minor": 0,
  "metadata": {
    "colab": {
      "provenance": [],
      "toc_visible": true
    },
    "kernelspec": {
      "name": "python3",
      "display_name": "Python 3"
    },
    "language_info": {
      "name": "python"
    }
  },
  "cells": [
    {
      "cell_type": "markdown",
      "source": [
        "Implementation of binary classification algorithm on a cancer data set for differenctiating between benign and malignant tumors.**bold text** **bold text**"
      ],
      "metadata": {
        "id": "qls_mMd3CtYt"
      }
    },
    {
      "cell_type": "code",
      "source": [
        "# Required libraries\n",
        "import numpy as np\n",
        "import pandas as pd\n",
        "import matplotlib.pyplot as plt\n",
        "import seaborn as sns\n",
        "\n",
        "# Load dataset\n",
        "df = pd.read_csv('cancer_data.csv')\n",
        "\n",
        "# Data preprocessing\n",
        "df.drop(['Unnamed: 32', 'id'], inplace=True, axis=1)\n",
        "df['diagnosis'] = df['diagnosis'].map({'M': 1, 'B': 0})\n",
        "print(df.head())\n"
      ],
      "metadata": {
        "colab": {
          "base_uri": "https://localhost:8080/"
        },
        "id": "XarYFtaiJ-hh",
        "outputId": "a42bedee-7a82-4847-86e9-e3668d9f4cec"
      },
      "execution_count": 52,
      "outputs": [
        {
          "output_type": "stream",
          "name": "stdout",
          "text": [
            "   diagnosis  radius_mean  texture_mean  perimeter_mean  area_mean  \\\n",
            "0          1        17.99         10.38          122.80     1001.0   \n",
            "1          1        20.57         17.77          132.90     1326.0   \n",
            "2          1        19.69         21.25          130.00     1203.0   \n",
            "3          1        11.42         20.38           77.58      386.1   \n",
            "4          1        20.29         14.34          135.10     1297.0   \n",
            "\n",
            "   smoothness_mean  compactness_mean  concavity_mean  concave points_mean  \\\n",
            "0          0.11840           0.27760          0.3001              0.14710   \n",
            "1          0.08474           0.07864          0.0869              0.07017   \n",
            "2          0.10960           0.15990          0.1974              0.12790   \n",
            "3          0.14250           0.28390          0.2414              0.10520   \n",
            "4          0.10030           0.13280          0.1980              0.10430   \n",
            "\n",
            "   symmetry_mean  ...  radius_worst  texture_worst  perimeter_worst  \\\n",
            "0         0.2419  ...         25.38          17.33           184.60   \n",
            "1         0.1812  ...         24.99          23.41           158.80   \n",
            "2         0.2069  ...         23.57          25.53           152.50   \n",
            "3         0.2597  ...         14.91          26.50            98.87   \n",
            "4         0.1809  ...         22.54          16.67           152.20   \n",
            "\n",
            "   area_worst  smoothness_worst  compactness_worst  concavity_worst  \\\n",
            "0      2019.0            0.1622             0.6656           0.7119   \n",
            "1      1956.0            0.1238             0.1866           0.2416   \n",
            "2      1709.0            0.1444             0.4245           0.4504   \n",
            "3       567.7            0.2098             0.8663           0.6869   \n",
            "4      1575.0            0.1374             0.2050           0.4000   \n",
            "\n",
            "   concave points_worst  symmetry_worst  fractal_dimension_worst  \n",
            "0                0.2654          0.4601                  0.11890  \n",
            "1                0.1860          0.2750                  0.08902  \n",
            "2                0.2430          0.3613                  0.08758  \n",
            "3                0.2575          0.6638                  0.17300  \n",
            "4                0.1625          0.2364                  0.07678  \n",
            "\n",
            "[5 rows x 31 columns]\n"
          ]
        }
      ]
    },
    {
      "cell_type": "markdown",
      "source": [
        "## Data Splitting\n",
        "\n",
        "We split the data into training (70%) and testing (30%) datasets."
      ],
      "metadata": {
        "id": "53bomnFDILoI"
      }
    },
    {
      "cell_type": "code",
      "source": [
        "# Extract input and output data\n",
        "data = df.to_numpy()\n",
        "data_in = data[:, 1:]  # input\n",
        "data_out = data[:, 0]  # output (m,) vector\n",
        "data_out = np.reshape(data_out, (-1, 1))\n",
        "\n",
        "print(f\"input dim: {data_in.shape}\")\n",
        "print(f\"output dim: {data_out.shape}\")\n",
        "\n",
        "# Split data into training and test sets\n",
        "ratio = 0.7  # percentage of training dataset\n",
        "len_tr = int(ratio * len(data_in))\n",
        "\n",
        "tr_data_in = data_in[:len_tr]\n",
        "tr_data_out = data_out[:len_tr]\n",
        "test_data_in = data_in[len_tr:]\n",
        "test_data_out = data_out[len_tr:]\n",
        "\n",
        "print(f\"number of train data: {tr_data_in.shape}\")\n",
        "print(f\"number of test data: {test_data_in.shape}\")\n"
      ],
      "metadata": {
        "colab": {
          "base_uri": "https://localhost:8080/"
        },
        "id": "JVqcAyVkIIYo",
        "outputId": "ef263756-a418-4ded-ea3d-2e4cc407eada"
      },
      "execution_count": 55,
      "outputs": [
        {
          "output_type": "stream",
          "name": "stdout",
          "text": [
            "input dim: (569, 30)\n",
            "output dim: (569, 1)\n",
            "number of train data: (398, 30)\n",
            "number of test data: (171, 30)\n"
          ]
        }
      ]
    },
    {
      "cell_type": "markdown",
      "source": [
        "## Feature Transformation\n",
        "\n",
        "Implement polynomial features and min-max normalization.\n"
      ],
      "metadata": {
        "id": "SZRjEpKNIWB9"
      }
    },
    {
      "cell_type": "code",
      "source": [
        "# Implement polynomial features\n",
        "def polynomial_features(X, degree):\n",
        "    from itertools import combinations_with_replacement\n",
        "    num_samples, num_features = X.shape\n",
        "    features = [np.ones(num_samples)]  # Start with the bias term\n",
        "\n",
        "    for degree in range(1, degree + 1):\n",
        "        for comb in combinations_with_replacement(range(num_features), degree):\n",
        "            features.append(np.prod(X[:, comb], axis=1))\n",
        "\n",
        "    return np.column_stack(features)\n",
        "\n",
        "# Implement min-max normalization with zero division handling\n",
        "def minmax_normalize(X):\n",
        "    minimum = np.min(X, axis=0)\n",
        "    maximum = np.max(X, axis=0)\n",
        "    range_values = maximum - minimum\n",
        "    range_values[range_values == 0] = 1  # Avoid division by zero\n",
        "    newX = (X - minimum) / range_values\n",
        "    return newX\n"
      ],
      "metadata": {
        "id": "gDD-tTG2IRZ4"
      },
      "execution_count": 56,
      "outputs": []
    },
    {
      "cell_type": "markdown",
      "source": [
        "## Model Functions\n",
        "\n",
        "Implement necessary functions for logistic regression: sigmoid, loss function, gradient descent, and prediction.\n"
      ],
      "metadata": {
        "id": "3FzW4KQiIa50"
      }
    },
    {
      "cell_type": "code",
      "source": [
        "# Implement sigmoid function\n",
        "def sigmoid(z):\n",
        "    return 1 / (1 + np.exp(-z))\n",
        "\n",
        "# Implement loss function\n",
        "def loss_function(y, y_pred):\n",
        "    epsilon = 1e-5  # To prevent log(0)\n",
        "    loss = -np.mean(y * np.log(y_pred + epsilon) + (1 - y) * np.log(1 - y_pred + epsilon))\n",
        "    return loss\n",
        "\n",
        "# Implement gradient descent\n",
        "def gradient_descent(X, y, lr, epochs):\n",
        "    m, n = X.shape\n",
        "    X = np.hstack((np.ones((m, 1)), X))  # Add bias term\n",
        "    theta = np.zeros((n + 1, 1))\n",
        "    losses = []\n",
        "\n",
        "    for i in range(epochs):\n",
        "        z = np.dot(X, theta)\n",
        "        y_pred = sigmoid(z)\n",
        "        gradient = np.dot(X.T, (y_pred - y)) / m\n",
        "        theta -= lr * gradient\n",
        "        losses.append(loss_function(y, y_pred))\n",
        "\n",
        "    return theta, losses\n",
        "\n",
        "# Implement logistic regression prediction\n",
        "def predict(X, theta):\n",
        "    X = np.hstack((np.ones((X.shape[0], 1)), X))\n",
        "    return sigmoid(np.dot(X, theta))\n"
      ],
      "metadata": {
        "id": "IbDs5pCJIYb6"
      },
      "execution_count": 57,
      "outputs": []
    },
    {
      "cell_type": "code",
      "source": [],
      "metadata": {
        "id": "4Grr9HQjIfTK"
      },
      "execution_count": null,
      "outputs": []
    },
    {
      "cell_type": "markdown",
      "source": [
        "## Train the Model\n",
        "\n",
        "Normalize data, add polynomial features, and train the model using gradient descent.\n"
      ],
      "metadata": {
        "id": "nyaFAE28I1LD"
      }
    },
    {
      "cell_type": "code",
      "source": [
        "# Train the model\n",
        "degree = 2\n",
        "tr_data_in = polynomial_features(minmax_normalize(tr_data_in), degree)\n",
        "test_data_in = polynomial_features(minmax_normalize(test_data_in), degree)\n",
        "\n",
        "lr = 0.01\n",
        "epochs = 1000\n",
        "theta, losses = gradient_descent(tr_data_in, tr_data_out, lr, epochs)\n"
      ],
      "metadata": {
        "colab": {
          "base_uri": "https://localhost:8080/",
          "height": 231
        },
        "id": "zyrw7V25I1tr",
        "outputId": "1143b7f5-0430-4de9-f99e-2a3e02eb9a6c"
      },
      "execution_count": 1,
      "outputs": [
        {
          "output_type": "error",
          "ename": "NameError",
          "evalue": "name 'polynomial_features' is not defined",
          "traceback": [
            "\u001b[0;31m---------------------------------------------------------------------------\u001b[0m",
            "\u001b[0;31mNameError\u001b[0m                                 Traceback (most recent call last)",
            "\u001b[0;32m<ipython-input-1-918d5f6cfeab>\u001b[0m in \u001b[0;36m<cell line: 3>\u001b[0;34m()\u001b[0m\n\u001b[1;32m      1\u001b[0m \u001b[0;31m# Train the model\u001b[0m\u001b[0;34m\u001b[0m\u001b[0;34m\u001b[0m\u001b[0m\n\u001b[1;32m      2\u001b[0m \u001b[0mdegree\u001b[0m \u001b[0;34m=\u001b[0m \u001b[0;36m2\u001b[0m\u001b[0;34m\u001b[0m\u001b[0;34m\u001b[0m\u001b[0m\n\u001b[0;32m----> 3\u001b[0;31m \u001b[0mtr_data_in\u001b[0m \u001b[0;34m=\u001b[0m \u001b[0mpolynomial_features\u001b[0m\u001b[0;34m(\u001b[0m\u001b[0mminmax_normalize\u001b[0m\u001b[0;34m(\u001b[0m\u001b[0mtr_data_in\u001b[0m\u001b[0;34m)\u001b[0m\u001b[0;34m,\u001b[0m \u001b[0mdegree\u001b[0m\u001b[0;34m)\u001b[0m\u001b[0;34m\u001b[0m\u001b[0;34m\u001b[0m\u001b[0m\n\u001b[0m\u001b[1;32m      4\u001b[0m \u001b[0mtest_data_in\u001b[0m \u001b[0;34m=\u001b[0m \u001b[0mpolynomial_features\u001b[0m\u001b[0;34m(\u001b[0m\u001b[0mminmax_normalize\u001b[0m\u001b[0;34m(\u001b[0m\u001b[0mtest_data_in\u001b[0m\u001b[0;34m)\u001b[0m\u001b[0;34m,\u001b[0m \u001b[0mdegree\u001b[0m\u001b[0;34m)\u001b[0m\u001b[0;34m\u001b[0m\u001b[0;34m\u001b[0m\u001b[0m\n\u001b[1;32m      5\u001b[0m \u001b[0;34m\u001b[0m\u001b[0m\n",
            "\u001b[0;31mNameError\u001b[0m: name 'polynomial_features' is not defined"
          ]
        }
      ]
    },
    {
      "cell_type": "code",
      "source": [],
      "metadata": {
        "id": "63vbLaDkI4N4"
      },
      "execution_count": null,
      "outputs": []
    },
    {
      "cell_type": "markdown",
      "source": [
        "## Model Evaluation\n",
        "\n",
        "Evaluate the model using confusion matrix and calculate performance metrics (precision, recall, F1 score, accuracy).\n"
      ],
      "metadata": {
        "id": "WDCvMW8eI78q"
      }
    },
    {
      "cell_type": "code",
      "source": [
        "# Model evaluation\n",
        "def plot_conf_mat(conf_mat):\n",
        "    class_label = [\"P\", \"N\"]\n",
        "    plt.subplots(figsize=(8, 8))\n",
        "    sns.set(font_scale=1.5)\n",
        "    sns.heatmap(conf_mat, annot=True, cbar=False, xticklabels=class_label, yticklabels=class_label, cmap='Blues')\n",
        "    plt.ylabel('Actual')\n",
        "    plt.xlabel('Predicted')\n",
        "    plt.show()\n",
        "\n",
        "def confusion_matrix(y_true, y_pred):\n",
        "    tp = np.sum((y_true == 1) & (y_pred == 1))\n",
        "    tn = np.sum((y_true == 0) & (y_pred == 0))\n",
        "    fp = np.sum((y_true == 0) & (y_pred == 1))\n",
        "    fn = np.sum((y_true == 1) & (y_pred == 0))\n",
        "    return np.array([[tp, fp], [fn, tn]])\n",
        "\n",
        "def calculate_metrics(conf_mat):\n",
        "    tp, fp, fn, tn = conf_mat.ravel()\n",
        "    precision = tp / (tp + fp)\n",
        "    recall = tp / (tp + fn)\n",
        "    f1_score = 2 * precision * recall / (precision + recall)\n",
        "    return precision, recall, f1_score\n",
        "\n",
        "def calculate_accuracy(X, y, theta):\n",
        "    y_pred = predict(X, theta)\n",
        "    y_pred = y_pred >= 0.5\n",
        "    accuracy = np.mean(y_pred == y)\n",
        "    return accuracy\n",
        "\n",
        "def evaluate_model(X, y, theta):\n",
        "    y_pred = predict(X, theta)\n",
        "    y_pred = y_pred >= 0.5\n",
        "    conf_mat = confusion_matrix(y, y_pred)\n",
        "    plot_conf_mat(conf_mat)\n",
        "    precision, recall, f1_score = calculate_metrics(conf_mat)\n",
        "    accuracy = calculate_accuracy(test_data_in, test_data_out, theta)\n",
        "    print(f\"Precision: {precision}, Recall: {recall}, F1 Score: {f1_score}, Accuracy: {accuracy}\")\n",
        "\n",
        "evaluate_model(test_data_in, test_data_out, theta)\n"
      ],
      "metadata": {
        "colab": {
          "base_uri": "https://localhost:8080/",
          "height": 755
        },
        "id": "sVWKLJGhI8gw",
        "outputId": "57dc0a94-a137-428e-e88a-3cfce416e738"
      },
      "execution_count": 60,
      "outputs": [
        {
          "output_type": "display_data",
          "data": {
            "text/plain": [
              "<Figure size 800x800 with 1 Axes>"
            ],
            "image/png": "[encoded data removed]"
          },
          "metadata": {}
        },
        {
          "output_type": "stream",
          "name": "stdout",
          "text": [
            "Precision: 0.972972972972973, Recall: 0.9230769230769231, F1 Score: 0.9473684210526315, Accuracy: 0.9766081871345029\n"
          ]
        }
      ]
    },
    {
      "cell_type": "markdown",
      "source": [
        "## Learning Curve\n",
        "\n",
        "Plot the learning curve to visualize the loss over epochs.\n"
      ],
      "metadata": {
        "id": "_ribJc82JDLU"
      }
    },
    {
      "cell_type": "code",
      "source": [
        "plt.plot(losses)\n",
        "plt.title('Learning Curve')\n",
        "plt.xlabel('Epochs')\n",
        "plt.ylabel('Loss')\n",
        "plt.show()\n"
      ],
      "metadata": {
        "colab": {
          "base_uri": "https://localhost:8080/",
          "height": 519
        },
        "id": "04vf3gcRI-IV",
        "outputId": "93808da3-dfd4-401a-d9b4-76fec34ce36e"
      },
      "execution_count": 61,
      "outputs": [
        {
          "output_type": "display_data",
          "data": {
            "text/plain": [
              "<Figure size 640x480 with 1 Axes>"
            ],
            "image/png": "[encoded data removed]"
          },
          "metadata": {}
        }
      ]
    },
    {
      "cell_type": "code",
      "source": [],
      "metadata": {
        "id": "b-EdZoqeLJKB"
      },
      "execution_count": null,
      "outputs": []
    }
  ]
}